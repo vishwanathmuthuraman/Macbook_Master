{
 "cells": [
  {
   "cell_type": "markdown",
   "metadata": {},
   "source": [
    "## Dataset Description\n",
    "\n",
    "This dataset is synthesized by IBM from a multi-agent virtual world simulation, including synthetic consumers that travel globally. It spans decades of transactions and multiple cards per consumer. The synthetic data generated is designed to mimic real-world data as closely as possible in terms of fraud rates, purchase amounts, Merchant Category Codes (MCCs), and other metrics, thereby providing a reliable dataset for training and evaluating fraud detection models.\n",
    "\n",
    "Though synthesized, this data has been crafted to mimic the real-world scenarios of credit card transactions, including the variances in shopping behaviors, purchase amounts, merchant variety, locations, and even fraudulent transactions, thus being a valuable resource for creating and testing credit card fraud detection models. The generation process involved intricate techniques and detailed consumer domains, resulting in a dataset that closely parallels real-world data.\n",
    "\n",
    "This rich, synthetic dataset enables researchers and developers to explore, create, and test models in a domain where typically data availability is highly restricted due to privacy considerations. The 'natural' value columns in the dataset can be exploited for feature engineering to improve model performance.\n",
    "\n",
    "The author's work does not involve using this data to develop and train models to predict fraud, or coupling models and the synthetic dataset to assess performance in designing accelerators such as GPUs and TPUs. Those aspects are left to the users of this dataset, offering a wide scope for exploration and innovation.\n",
    "\n",
    "Column Descriptions\n",
    "\n",
    "1. **User**: The unique identifier of the credit card user.\n",
    "2. **Card**: The unique identifier of the credit card used for the transaction.\n",
    "3. **Year**: The year when the transaction took place.\n",
    "4. **Month**: The month when the transaction took place.\n",
    "5. **Day**: The day when the transaction took place.\n",
    "6. **Time**: The specific time when the transaction took place.\n",
    "7. **Amount**: The total monetary value of the transaction.\n",
    "8. **Use Chip**: Indicates whether the chip on the credit card was used for the transaction.\n",
    "9. **Merchant Name**: The unique identifier of the merchant where the transaction took place.\n",
    "10. **Merchant City**: The city where the merchant is located.\n",
    "11. **Merchant State**: The state where the merchant is located.\n",
    "12. **Zip**: The zip code of the area where the transaction took place.\n",
    "13. **MCC**: The Merchant Category Code, which is a four-digit number used to categorize the type of business or service the company provides.\n",
    "14. **Errors?**: Any errors that occurred during the transaction.\n",
    "15. **Is Fraud?**: Indicates whether the transaction was fraudulent.\n",
    "\n",
    "#### Citation\n",
    "\n",
    "Altman, E.R., 2019. Synthesizing Credit Card Transactions. arXiv preprint arXiv:1910.03033. DOI: https://doi.org/10.48550/arXiv.1910.03033\n"
   ]
  },
  {
   "cell_type": "markdown",
   "metadata": {},
   "source": [
    "## Load and merge data"
   ]
  },
  {
   "cell_type": "code",
   "execution_count": null,
   "metadata": {
    "tags": []
   },
   "outputs": [],
   "source": [
    "import pandas as pd\n",
    "import seaborn as sns\n",
    "import matplotlib.pyplot as plt\n",
    "import openpyxl\n",
    "from imblearn.over_sampling import SMOTE\n",
    "from sklearn.model_selection import train_test_split\n",
    "from sklearn.experimental import enable_iterative_imputer\n",
    "from sklearn.impute import IterativeImputer\n",
    "import math\n",
    "from sklearn.impute import SimpleImputer\n",
    "from geopy import distance\n",
    "import numpy as np\n",
    "from sklearn.model_selection import train_test_split\n",
    "from sklearn.preprocessing import LabelEncoder, OneHotEncoder, StandardScaler\n",
    "from sklearn.compose import ColumnTransformer\n",
    "from sklearn.pipeline import Pipeline\n",
    "from sklearn.ensemble import RandomForestClassifier\n",
    "from imblearn.over_sampling import ADASYN\n",
    "from sklearn.metrics import accuracy_score, precision_score, recall_score, f1_score, roc_auc_score\n",
    "\n",
    "\n",
    "# Load the transactions data and drop unnecessary columns\n",
    "transactions = pd.read_csv('final_dataset.csv')\n",
    "transactions = transactions.drop(['Merchant State', 'Merchant City'], axis=1)\n",
    "transactions = transactions.rename(columns={'Year':'Transaction Year','Month':'Transaction Month','Day':'Transaction Day','Time':'Transaction Time'})\n",
    "\n",
    "# Convert 'Year', 'Month', 'Day' columns to datetime format and drop the original columns\n",
    "transactions['datetime'] = pd.to_datetime(transactions['Transaction Year'].astype(str) + '-' + transactions['Transaction Month'].astype(str) + '-' + transactions['Transaction Day'].astype(str) + ' ' + transactions['Transaction Time'].astype(str) + ':00')\n",
    "transactions = transactions.drop(['Transaction Year', 'Transaction Month', 'Transaction Day', 'Transaction Time'], axis=1)\n",
    "\n",
    "# Load the cards data and drop unnecessary columns\n",
    "cards = pd.read_csv(\"sd254_cards.csv\")\n",
    "cards = cards.drop(['CVV', 'Year PIN last Changed'], axis=1)\n",
    "\n",
    "# Load the users data and drop unnecessary columns \n",
    "users = pd.read_csv(\"sd254_users.csv\")\n",
    "users = users.drop(['Person', 'Address','Birth Month', 'Apartment', 'City', 'State', 'Per Capita Income - Zipcode', 'Yearly Income - Person', 'Total Debt'], axis=1)\n",
    "users = users.rename(columns={'latitude': 'user_latitude', 'longitude': 'user_longitude'})\n",
    "\n",
    "# Reset index to create a 'User' column\n",
    "users = users.reset_index().rename(columns={'index': 'User'})\n",
    "\n",
    "# Load zip code data and rename columns\n",
    "zip_df = pd.read_excel(\"zipcode_map.xlsx\")\n",
    "zip_df = zip_df.rename(columns={'latitude': 'merchant_latitude', 'longitude': 'merchant_longitude', 'postal code': 'Zip'})\n",
    "\n",
    "# Merge the datasets\n",
    "df = pd.merge(transactions, cards, left_on=['User', 'Card'], right_on=['User', 'CARD INDEX'], how='left')\n",
    "df = pd.merge(df, users, left_on=['User'], right_on=['User'], how='left')\n",
    "df = pd.merge(df, zip_df, left_on=['Zip'], right_on=['Zip'], how='left')"
   ]
  },
  {
   "cell_type": "markdown",
   "metadata": {},
   "source": [
    "## Pre Processing\n"
   ]
  },
  {
   "cell_type": "markdown",
   "metadata": {},
   "source": [
    "### Drop unwanted columns as convert data types"
   ]
  },
  {
   "cell_type": "code",
   "execution_count": null,
   "metadata": {
    "tags": []
   },
   "outputs": [],
   "source": [
    "# Remove unnecessary columns and duplicate columns such as zip code since we already have long and lat we will not need these\n",
    "\n",
    "df.drop(columns=['Card','CARD INDEX',\"Zip\",'Zipcode','Card Number'],inplace=True, axis=1)\n",
    "\n",
    "# Convert money columns to float by removing dollar symbols so they can be used as inputs to model, the money symbol will make it a string\n",
    "\n",
    "df[\"Amount\"] = df[\"Amount\"].str.replace(\"$\", \"\", regex=False).astype(float)\n",
    "df[\"Credit Limit\"] = df[\"Credit Limit\"].str.replace(\"$\", \"\", regex=False).astype(float)\n",
    "df[\"Is Fraud?\"] = df[\"Is Fraud?\"].apply(lambda x: 1 if x == 'Yes' else 0)"
   ]
  },
  {
   "cell_type": "markdown",
   "metadata": {},
   "source": [
    "### Enrich the dataset"
   ]
  },
  {
   "cell_type": "code",
   "execution_count": null,
   "metadata": {
    "tags": []
   },
   "outputs": [
    {
     "name": "stdout",
     "output_type": "stream",
     "text": [
      "<class 'pandas.core.frame.DataFrame'>\n",
      "Int64Index: 76399 entries, 0 to 76398\n",
      "Data columns (total 33 columns):\n",
      " #   Column                  Non-Null Count  Dtype  \n",
      "---  ------                  --------------  -----  \n",
      " 0   User                    76399 non-null  int64  \n",
      " 1   Amount                  76399 non-null  float64\n",
      " 2   Use Chip                76399 non-null  object \n",
      " 3   MCC                     76399 non-null  int64  \n",
      " 4   Errors?                 76399 non-null  object \n",
      " 5   Is Fraud?               76399 non-null  int64  \n",
      " 6   Card Brand              76399 non-null  object \n",
      " 7   Card Type               76399 non-null  object \n",
      " 8   Has Chip                76399 non-null  object \n",
      " 9   Cards Issued            76399 non-null  int64  \n",
      " 10  Credit Limit            76399 non-null  float64\n",
      " 11  Card on Dark Web        76399 non-null  object \n",
      " 12  Current Age             76399 non-null  int64  \n",
      " 13  Gender                  76399 non-null  object \n",
      " 14  Latitude                76399 non-null  float64\n",
      " 15  Longitude               76399 non-null  float64\n",
      " 16  FICO Score              76399 non-null  int64  \n",
      " 17  Num Credit Cards        76399 non-null  int64  \n",
      " 18  country code            76254 non-null  object \n",
      " 19  place name              76254 non-null  object \n",
      " 20  admin name1             76254 non-null  object \n",
      " 21  admin code1             76254 non-null  object \n",
      " 22  admin name2             76254 non-null  object \n",
      " 23  admin code2             76254 non-null  float64\n",
      " 24  merchant_latitude       76254 non-null  float64\n",
      " 25  merchant_longitude      76254 non-null  float64\n",
      " 26  accuracy                76254 non-null  float64\n",
      " 27  Month                   76399 non-null  int64  \n",
      " 28  DayOfWeek               76399 non-null  int64  \n",
      " 29  Day                     76399 non-null  int64  \n",
      " 30  Hour                    76399 non-null  int64  \n",
      " 31  CreditLimitUtilization  76399 non-null  float64\n",
      " 32  DaysSinceAcctOpen       76399 non-null  int64  \n",
      "dtypes: float64(9), int64(12), object(12)\n",
      "memory usage: 19.8+ MB\n"
     ]
    }
   ],
   "source": [
    "# Extract month, day of the week, and hour from the 'datetime' column\n",
    "df = df.assign(Month=df['datetime'].apply(lambda x: x.month),\n",
    "               DayOfWeek=df['datetime'].apply(lambda x: x.weekday()),\n",
    "               Day=df['datetime'].apply(lambda x: x.day),\n",
    "               Hour=df['datetime'].apply(lambda x: x.hour))\n",
    "\n",
    "# Calculate the credit limit utilization percentage\n",
    "df['CreditLimitUtilization'] = df['Amount'] / df['Credit Limit']\n",
    "\n",
    "# Calculate the time difference in days between 'Acct Open Date' and 'datetime'\n",
    "df['Acct Open Date'] = pd.to_datetime(df['Acct Open Date'], format='%m/%Y')\n",
    "df['DaysSinceAcctOpen'] = (df['datetime'] - df['Acct Open Date']).dt.days\n",
    "\n",
    "df.drop(columns=['Expires','datetime','Acct Open Date','Merchant Name','Retirement Age','datetime','Birth Year'],axis=True,inplace=True)\n",
    "\n",
    "df.info()\n"
   ]
  },
  {
   "cell_type": "markdown",
   "metadata": {},
   "source": [
    "### Imputation of missing values"
   ]
  },
  {
   "cell_type": "code",
   "execution_count": null,
   "metadata": {
    "tags": []
   },
   "outputs": [],
   "source": [
    "#### The Iterative Imputer, which uses a form of multiple imputation, can also capture complex patterns and is typically less computationally intensive than random forests. It fills each missing value by using a regression model that predicts the missing value using the remaining variables, and it does this in a round-robin fashion.\n",
    "#### Chose iterative due to computational limitations of my system and since the data was large\n",
    "\n",
    "imp = IterativeImputer(max_iter=10, random_state=0)\n",
    "\n",
    "df[['Latitude', 'Longitude', 'merchant_latitude', 'merchant_longitude','accuracy']] = imp.fit_transform(df[['Latitude', 'Longitude', 'merchant_latitude', 'merchant_longitude','accuracy']])\n",
    "\n",
    "\n",
    "# Create an imputer object with a most_frequent filling strategy\n",
    "imputer = SimpleImputer(missing_values=np.nan, strategy='most_frequent')\n",
    "\n",
    "# List of categorical columns that have missing values\n",
    "cat_cols_with_missing = ['country code', 'place name', 'admin name1', 'admin name2', 'admin code1', 'admin code2']\n",
    "\n",
    "# Fit on the dataset and then transform it\n",
    "df[cat_cols_with_missing] = imputer.fit_transform(df[cat_cols_with_missing])\n",
    "\n",
    "\n",
    "\n",
    "# Define function to calculate Great Circle Distance\n",
    "def great_circle_dist(lat1, lon1, lat2, lon2):\n",
    "    coord1 = (lat1, lon1)\n",
    "    coord2 = (lat2, lon2)\n",
    "    return distance.great_circle(coord1, coord2).km\n",
    "\n",
    "# Apply function to DataFrame\n",
    "df['DistanceTransactionToMerchant'] = df.apply(lambda row: great_circle_dist(row['Latitude'], row['Longitude'], row['merchant_latitude'], row['merchant_longitude']), axis=1)\n",
    "\n",
    "# Calculate direction\n",
    "df['DirectionTransactionToMerchant'] = df.apply(lambda row: math.degrees(math.atan2(row['merchant_longitude'] - row['Longitude'], row['merchant_latitude'] - row['Latitude'])), axis=1)\n"
   ]
  },
  {
   "cell_type": "markdown",
   "metadata": {},
   "source": [
    "### Encoding and Scalling"
   ]
  },
  {
   "cell_type": "code",
   "execution_count": null,
   "metadata": {
    "scrolled": true,
    "tags": []
   },
   "outputs": [],
   "source": [
    "# Define categorical and numerical features\n",
    "categorical_features = ['Use Chip', 'Errors?', 'Card Brand', 'Card Type', 'Has Chip', 'Card on Dark Web', 'Gender', 'country code', 'admin name1', 'admin code1', 'admin name2','place name']\n",
    "numerical_features = ['User','Amount', 'MCC', 'Cards Issued', 'Latitude', 'Longitude', 'admin code2', 'Num Credit Cards', 'merchant_latitude', 'merchant_longitude', 'accuracy', 'Month', 'DayOfWeek', 'Day', 'Hour', 'DaysSinceAcctOpen','Current Age','DistanceTransactionToMerchant', 'DirectionTransactionToMerchant']\n",
    "\n",
    "# Define preprocessing for numerical and categorical features\n",
    "numerical_transformer = Pipeline(steps=[('scaler', StandardScaler())])\n",
    "categorical_transformer = Pipeline(steps=[('encoder', OneHotEncoder(handle_unknown='ignore'))])\n",
    "\n",
    "# Combine preprocessing steps\n",
    "preprocessor = ColumnTransformer(\n",
    "    transformers=[\n",
    "        ('num', numerical_transformer, numerical_features),\n",
    "        ('cat', categorical_transformer, categorical_features)])"
   ]
  },
  {
   "cell_type": "markdown",
   "metadata": {},
   "source": [
    "### Split Training and Testing set and performing SMOTE (Synthetic Minority Over-sampling Technique)"
   ]
  },
  {
   "cell_type": "code",
   "execution_count": 15,
   "metadata": {},
   "outputs": [
    {
     "name": "stdout",
     "output_type": "stream",
     "text": [
      "  (0, 0)\t0.5006117604630459\n",
      "  (0, 1)\t0.0364589409623846\n",
      "  (0, 2)\t0.2970111574038132\n",
      "  (0, 3)\t-1.088029375050352\n",
      "  (0, 4)\t0.8114751779104845\n",
      "  (0, 5)\t0.3094659158848602\n",
      "  (0, 6)\t0.08544910016486504\n",
      "  (0, 7)\t-1.7520826804273286\n",
      "  (0, 8)\t0.8207625468515319\n",
      "  (0, 9)\t0.023591298614933105\n",
      "  (0, 10)\t0.09243404687385018\n",
      "  (0, 11)\t0.9985862877695825\n",
      "  (0, 12)\t-0.49422412015298983\n",
      "  (0, 13)\t0.25891028438682256\n",
      "  (0, 14)\t1.2618037557066253\n",
      "  (0, 15)\t-0.038351802066075504\n",
      "  (0, 16)\t-1.72802363680403\n",
      "  (0, 17)\t0.29868924315884393\n",
      "  (0, 18)\t-0.8515515607149092\n",
      "  (0, 19)\t1.0\n",
      "  (0, 30)\t1.0\n",
      "  (0, 34)\t1.0\n",
      "  (0, 36)\t1.0\n",
      "  (0, 39)\t1.0\n",
      "  (0, 40)\t1.0\n",
      "  :\t:\n",
      "  (121865, 40)\t1.0\n",
      "  (121865, 39)\t1.0\n",
      "  (121865, 37)\t0.7012011412042706\n",
      "  (121865, 34)\t0.7012011412042706\n",
      "  (121865, 22)\t0.7012011412042706\n",
      "  (121865, 19)\t0.7012011412042706\n",
      "  (121865, 18)\t-1.090735697609589\n",
      "  (121865, 17)\t-0.280581329215795\n",
      "  (121865, 16)\t0.02974917935993321\n",
      "  (121865, 15)\t-0.05468459472498696\n",
      "  (121865, 14)\t0.3205775887530061\n",
      "  (121865, 13)\t0.9774935640371729\n",
      "  (121865, 12)\t0.3551809023591607\n",
      "  (121865, 11)\t1.1999324439237928\n",
      "  (121865, 10)\t0.09243404687385018\n",
      "  (121865, 9)\t-0.13962009566481298\n",
      "  (121865, 8)\t0.11125934727795428\n",
      "  (121865, 7)\t0.8669141241372843\n",
      "  (121865, 6)\t0.23826835938099278\n",
      "  (121865, 5)\t-0.14731080721495304\n",
      "  (121865, 4)\t0.1050119074433633\n",
      "  (121865, 3)\t0.8806277010532175\n",
      "  (121865, 2)\t1.6232918537136407\n",
      "  (121865, 1)\t-0.059020604958114675\n",
      "  (121865, 0)\t5.49805026466283\n"
     ]
    }
   ],
   "source": [
    "# Divide the dataset into features and labels\n",
    "X = df.drop('Is Fraud?', axis=1)\n",
    "y = df['Is Fraud?']\n",
    "\n",
    "# Split your data into a training set and a test set (80-20 split here)\n",
    "X_train, X_test, y_train, y_test = train_test_split(X, y, test_size=0.2, random_state=42)\n",
    "\n",
    "# Preprocessing: fit_transform on train data\n",
    "X_train = preprocessor.fit_transform(X_train)\n",
    "\n",
    "# Preprocessing: transform only on test data\n",
    "X_test = preprocessor.transform(X_test)\n",
    "\n",
    "# Perform Smote on training data only\n",
    "smote = SMOTE(random_state=42)\n",
    "X_train_smote, y_train_smote = smote.fit_resample(X_train, y_train)\n",
    "\n",
    "# Initialize ADASYN\n",
    "adasyn = ADASYN()\n",
    "\n",
    "# Fit and apply the transform\n",
    "X_train_adasyn, y_train_adasyn = adasyn.fit_resample(X_train, y_train)\n",
    "\n",
    "print(X_train_smote)"
   ]
  },
  {
   "cell_type": "markdown",
   "metadata": {},
   "source": [
    "## Feature Selection"
   ]
  },
  {
   "cell_type": "code",
   "execution_count": 8,
   "metadata": {
    "tags": []
   },
   "outputs": [
    {
     "name": "stdout",
     "output_type": "stream",
     "text": [
      "[LightGBM] [Info] Number of positive: 60957, number of negative: 60933\n",
      "[LightGBM] [Warning] Auto-choosing row-wise multi-threading, the overhead of testing was 0.459209 seconds.\n",
      "You can set `force_row_wise=true` to remove the overhead.\n",
      "And if memory is not enough, you can set `force_col_wise=true`.\n",
      "[LightGBM] [Info] Total Bins 72886\n",
      "[LightGBM] [Info] Number of data points in the train set: 121890, number of used features: 1106\n",
      "[LightGBM] [Info] [binary:BoostFromScore]: pavg=0.500098 -> initscore=0.000394\n",
      "[LightGBM] [Info] Start training from score 0.000394\n",
      "Feature: User, Score: 179.00000\n",
      "Feature: DistanceTransactionToMerchant, Score: 138.00000\n",
      "Feature: Errors?__Bad PIN, Score: 125.00000\n",
      "Feature: Hour, Score: 119.00000\n",
      "Feature: Num Credit Cards, Score: 102.00000\n",
      "Feature: MCC, Score: 80.00000\n",
      "Feature: DirectionTransactionToMerchant, Score: 70.00000\n",
      "Feature: DaysSinceAcctOpen, Score: 69.00000\n",
      "Feature: DayOfWeek, Score: 69.00000\n",
      "Feature: Amount, Score: 62.00000\n",
      "Feature: Card Type__Debit, Score: 61.00000\n",
      "Feature: Gender__Female, Score: 54.00000\n",
      "Feature: Month, Score: 54.00000\n",
      "Feature: admin name1__Ohio, Score: 52.00000\n",
      "Feature: admin name2__Sebastian, Score: 51.00000\n",
      "Feature: Current Age, Score: 50.00000\n",
      "Feature: merchant_latitude, Score: 48.00000\n",
      "Feature: place name__Longview, Score: 42.00000\n"
     ]
    },
    {
     "data": {
      "image/png": "[encoded data removed]",
      "text/plain": [
       "<Figure size 1000x800 with 1 Axes>"
      ]
     },
     "metadata": {},
     "output_type": "display_data"
    }
   ],
   "source": [
    "import lightgbm as lgb\n",
    "import matplotlib.pyplot as plt\n",
    "import pandas as pd\n",
    "\n",
    "# train the LightGBM model\n",
    "model = lgb.LGBMClassifier(objective='binary', random_state=42)\n",
    "model.fit(X_train_adasyn, y_train_adasyn)\n",
    "\n",
    "# get feature importance\n",
    "importance = model.feature_importances_\n",
    "\n",
    "# Get the list of categorical features after one-hot encoding\n",
    "ohe_categories = preprocessor.named_transformers_['cat'].named_steps['encoder'].categories_\n",
    "new_ohe_features = [f\"{col}__{val}\" for col, vals in zip(categorical_features, ohe_categories) for val in vals]\n",
    "\n",
    "# Combine the numerical and new one-hot encoded features\n",
    "feature_names = numerical_features + new_ohe_features\n",
    "\n",
    "# create a DataFrame with feature importance\n",
    "importance_df = pd.DataFrame({\n",
    "    'Feature': feature_names,\n",
    "    'Score': importance\n",
    "})\n",
    "\n",
    "# Save all feature importance scores to a csv file\n",
    "importance_df.to_csv('feature_importance.csv', index=False)\n",
    "\n",
    "# sort the DataFrame by 'Score' in descending order and select the top 12\n",
    "top_18_features = importance_df.sort_values('Score', ascending=False).head(18)\n",
    "\n",
    "# Print the top 12 feature importance scores\n",
    "for index, row in top_18_features.iterrows():\n",
    "    print('Feature: %s, Score: %.5f' % (row['Feature'], row['Score']))\n",
    "\n",
    "# plot feature importance of the top 12 features\n",
    "plt.figure(figsize=(10, 8))\n",
    "plt.barh(top_18_features['Feature'], top_18_features['Score'])\n",
    "plt.xlabel('Importance')\n",
    "plt.title('Top 18 Feature Importance')\n",
    "plt.show()\n"
   ]
  },
  {
   "cell_type": "code",
   "execution_count": 11,
   "metadata": {
    "tags": []
   },
   "outputs": [
    {
     "name": "stdout",
     "output_type": "stream",
     "text": [
      "  (0, 0)\t0.5006117604630459\n",
      "  (0, 1)\t0.0364589409623846\n",
      "  (0, 2)\t0.2970111574038132\n",
      "  (0, 3)\t-1.7520826804273286\n",
      "  (0, 4)\t0.8207625468515319\n",
      "  (0, 5)\t0.023591298614933105\n",
      "  (0, 6)\t0.9985862877695825\n",
      "  (0, 7)\t-0.49422412015298983\n",
      "  (0, 8)\t0.25891028438682256\n",
      "  (0, 9)\t1.2618037557066253\n",
      "  (0, 10)\t-0.038351802066075504\n",
      "  (0, 11)\t-1.72802363680403\n",
      "  (0, 12)\t0.29868924315884393\n",
      "  (0, 13)\t-0.8515515607149092\n",
      "  (0, 23)\t1.0\n",
      "  (0, 25)\t1.0\n",
      "  (0, 28)\t1.0\n",
      "  (0, 29)\t1.0\n",
      "  (0, 31)\t1.0\n",
      "  (0, 47)\t1.0\n",
      "  (0, 549)\t1.0\n",
      "  (0, 3939)\t1.0\n",
      "  (1, 0)\t-0.06466597577051364\n",
      "  (1, 1)\t0.2761097699347282\n",
      "  (1, 2)\t0.42212100608033104\n",
      "  :\t:\n",
      "  (121838, 52)\t0.22579192746925159\n",
      "  (121838, 105)\t0.22579192746925159\n",
      "  (121838, 2377)\t0.22579192746925159\n",
      "  (121838, 2241)\t0.7742080725307484\n",
      "  (121838, 964)\t0.7742080725307484\n",
      "  (121838, 74)\t0.7742080725307484\n",
      "  (121838, 31)\t1.0\n",
      "  (121838, 29)\t1.0\n",
      "  (121838, 28)\t1.0\n",
      "  (121838, 25)\t1.0\n",
      "  (121838, 15)\t1.0\n",
      "  (121838, 13)\t1.1335782823149192\n",
      "  (121838, 12)\t-0.2795430306909028\n",
      "  (121838, 11)\t0.6437117003850084\n",
      "  (121838, 10)\t-0.43911809481142755\n",
      "  (121838, 9)\t-0.8242727204818743\n",
      "  (121838, 8)\t-0.3398363512101763\n",
      "  (121838, 7)\t-1.4928185860735352\n",
      "  (121838, 6)\t0.9337513438211096\n",
      "  (121838, 5)\t0.4163850997008126\n",
      "  (121838, 4)\t-0.20732310646815844\n",
      "  (121838, 3)\t0.21216492299613113\n",
      "  (121838, 2)\t1.3450975409863446\n",
      "  (121838, 1)\t2.5068898016876426\n",
      "  (121838, 0)\t1.080626140684551\n"
     ]
    }
   ],
   "source": [
    "# Divide the dataset into features and labels\n",
    "feature_X = df.drop('Is Fraud?', axis=1)\n",
    "feature_y = df['Is Fraud?']\n",
    "\n",
    "# Split your data into a training set and a test set (80-20 split here)\n",
    "X_train_f, X_test_f, y_train_f, y_test_f = train_test_split(feature_X, feature_y, test_size=0.2, random_state=42)\n",
    "\n",
    "# Define categorical and numerical features\n",
    "categorical_features_f = ['Errors?','Card Type', 'Has Chip', 'Gender', 'country code', 'admin name1', 'admin name2','place name']\n",
    "numerical_features_f = ['User','Amount', 'MCC', 'Num Credit Cards', 'merchant_latitude', 'merchant_longitude', 'Month', 'DayOfWeek', 'Day', 'Hour', 'DaysSinceAcctOpen','Current Age','DistanceTransactionToMerchant', 'DirectionTransactionToMerchant']\n",
    "\n",
    "# Combine preprocessing steps\n",
    "preprocessor = ColumnTransformer(\n",
    "    transformers=[\n",
    "        ('num', numerical_transformer, numerical_features_f),\n",
    "        ('cat', categorical_transformer, categorical_features_f)])\n",
    "\n",
    "\n",
    "# Preprocessing: fit_transform on train data\n",
    "X_train_f = preprocessor.fit_transform(X_train_f)\n",
    "\n",
    "# Preprocessing: transform only on test data\n",
    "X_test_f = preprocessor.transform(X_test_f)\n",
    "# Initialize ADASYN\n",
    "adasyn = ADASYN()\n",
    "\n",
    "# Fit and apply the transform\n",
    "X_train_adasyn, y_train_adasyn = adasyn.fit_resample(X_train_f, y_train_f)\n",
    "\n",
    "print(X_train_adasyn)\n"
   ]
  },
  {
   "cell_type": "markdown",
   "metadata": {},
   "source": [
    "## Finding best parameters"
   ]
  },
  {
   "cell_type": "markdown",
   "metadata": {},
   "source": [
    "### Logistic Regression"
   ]
  },
  {
   "cell_type": "code",
   "execution_count": null,
   "metadata": {
    "tags": []
   },
   "outputs": [],
   "source": [
    "from sklearn.metrics import accuracy_score, recall_score, precision_score, f1_score, roc_auc_score\n",
    "from sklearn.linear_model import LogisticRegression\n",
    "from sklearn.model_selection import GridSearchCV\n",
    "\n",
    "# Define the model parameters for Grid Search\n",
    "lr_params = {'penalty': ['l1', 'l2', 'elasticnet', 'none'], 'C': [0.001,0.01,0.1,1,10,100], 'solver': ['newton-cg', 'lbfgs', 'liblinear', 'sag', 'saga']}\n",
    "\n",
    "# Initialize the Logistic Regression model\n",
    "lr_model = LogisticRegression()\n",
    "\n",
    "# Use GridSearchCV to find the best parameters\n",
    "lr_grid = GridSearchCV(lr_model, lr_params, cv=5, scoring='recall',verbose=0, n_jobs=-1)\n",
    "\n",
    "# Fit the data to GridSearchCV\n",
    "lr_grid.fit(X_train_smote, y_train_smote)\n",
    "\n",
    "# Print the best parameters\n",
    "print(\"Best parameters found: \", lr_grid.best_params_)\n",
    "\n",
    "# Best parameters found:  {'C': 1, 'penalty': 'l1', 'solver': 'liblinear'}"
   ]
  },
  {
   "cell_type": "markdown",
   "metadata": {},
   "source": [
    "### When the warning One or more of the test scores are non-finite appears, it means that the scoring function returned NaN (not a number) for one or more combinations of hyperparameters. This typically happens when a model fails to converge, or perhaps due to an inappropriate combination of hyperparameters. In this context, NaN values are ignored, and the best parameters are chosen among those that provided valid (finite) scores.\n",
    "\n",
    "### However, you might want to investigate why these scores are non-finite and possibly adjust your hyperparameters to prevent these cases. You might also want to consider normalizing or standardizing your features, handling missing values or outliers, or choosing different hyperparameters or a different solver."
   ]
  },
  {
   "cell_type": "markdown",
   "metadata": {},
   "source": [
    "### Random Forest Classifier"
   ]
  },
  {
   "cell_type": "code",
   "execution_count": 19,
   "metadata": {
    "tags": []
   },
   "outputs": [
    {
     "name": "stdout",
     "output_type": "stream",
     "text": [
      "Fitting 3 folds for each of 10 candidates, totalling 30 fits\n",
      "Best parameters found:  {'max_depth': 29, 'max_features': 'sqrt', 'n_estimators': 129}\n"
     ]
    }
   ],
   "source": [
    "from sklearn.model_selection import RandomizedSearchCV\n",
    "from sklearn.ensemble import RandomForestClassifier\n",
    "from scipy.stats import randint\n",
    "\n",
    "# Instantiate the RandomForestClassifier\n",
    "rf_model = RandomForestClassifier(random_state=0)\n",
    "\n",
    "# Define the parameters grid\n",
    "param_dist = {\n",
    "    'n_estimators': randint(50, 200),\n",
    "    'max_features': ['sqrt',None],\n",
    "    'max_depth': randint(10, 30)\n",
    "}\n",
    "\n",
    "# Set up RandomizedSearchCV\n",
    "random_search = RandomizedSearchCV(estimator=rf_model, param_distributions=param_dist, \n",
    "                                   n_iter=10, cv=3, scoring='f1', verbose=2, n_jobs=-1, random_state=0)\n",
    "\n",
    "# Fit the model\n",
    "random_search.fit(X_train_adasyn, y_train_adasyn)\n",
    "\n",
    "# Get the best parameters\n",
    "best_params = random_search.best_params_\n",
    "\n",
    "print(f\"Best parameters found:  {best_params}\")\n",
    "\n",
    "# Best parameters found:  {'max_depth': 22, 'max_features': None, 'n_estimators': 167}"
   ]
  },
  {
   "cell_type": "markdown",
   "metadata": {},
   "source": [
    "### XG Boost"
   ]
  },
  {
   "cell_type": "code",
   "execution_count": null,
   "metadata": {
    "tags": []
   },
   "outputs": [],
   "source": [
    "import xgboost as xgb\n",
    "from sklearn.model_selection import RandomizedSearchCV\n",
    "\n",
    "# Define our parameters \n",
    "parameters = {\n",
    "    'learning_rate': [0.01, 0.1, 0.2, 0.3], \n",
    "    'max_depth': [3, 4, 5, 6, 7],\n",
    "    'n_estimators': [100, 200, 300, 400, 500],\n",
    "    'min_child_weight': [1, 2, 3, 4]\n",
    "}\n",
    "\n",
    "xgb_model = xgb.XGBClassifier(use_label_encoder=False, eval_metric='logloss')\n",
    "\n",
    "# Use RandomizedSearchCV and early stopping\n",
    "random_search = RandomizedSearchCV(estimator=xgb_model, param_distributions=parameters, cv=3, scoring='recall', n_jobs=-1, n_iter=50)\n",
    "random_search.fit(X_train, y_train, early_stopping_rounds=10, eval_set=[(X_test, y_test)])\n",
    "\n",
    "# Print the best parameters and highest recall\n",
    "print(f\"Best parameters found:  {random_search.best_params_}\")\n",
    "print(f\"Best recall found:  {random_search.best_score_}\")\n"
   ]
  },
  {
   "cell_type": "markdown",
   "metadata": {},
   "source": [
    "### Ada Boost"
   ]
  },
  {
   "cell_type": "code",
   "execution_count": 13,
   "metadata": {
    "tags": []
   },
   "outputs": [
    {
     "name": "stdout",
     "output_type": "stream",
     "text": [
      "Best parameters found:  {'n_estimators': 100, 'learning_rate': 10.0}\n"
     ]
    }
   ],
   "source": [
    "from sklearn.ensemble import AdaBoostClassifier\n",
    "from sklearn.model_selection import RandomizedSearchCV\n",
    "import numpy as np\n",
    "\n",
    "# Define the parameters for the random search\n",
    "adaboost_params = {\n",
    "    'n_estimators': [50, 100, 200, 400],\n",
    "    'learning_rate': np.logspace(-3, 1, 5)  # equivalent to [0.001, 0.01, 0.1, 1, 10]\n",
    "}\n",
    "\n",
    "# Initialize the AdaBoost Classifier\n",
    "adaboost_model = AdaBoostClassifier()\n",
    "\n",
    "# Set up the random search\n",
    "adaboost_random = RandomizedSearchCV(adaboost_model, adaboost_params, cv=5, scoring='recall', n_iter=10, verbose=0, n_jobs=-1, random_state=42)\n",
    "\n",
    "# Fit the random search to the data\n",
    "adaboost_random.fit(X_train_f, y_train_f)\n",
    "\n",
    "# Print the best parameters\n",
    "print(\"Best parameters found: \", adaboost_random.best_params_)\n"
   ]
  },
  {
   "cell_type": "markdown",
   "metadata": {},
   "source": [
    "## Models with best parameters"
   ]
  },
  {
   "cell_type": "code",
   "execution_count": 23,
   "metadata": {},
   "outputs": [
    {
     "name": "stdout",
     "output_type": "stream",
     "text": [
      "Logistic Regression performance:\n",
      "Accuracy: 0.9943062827225131\n",
      "Precision: 0.24528301886792453\n",
      "Recall: 0.7878787878787878\n",
      "F1 Score: 0.37410071942446044\n",
      "ROC AUC Score: 0.8913159270278703\n"
     ]
    }
   ],
   "source": [
    "from sklearn.linear_model import LogisticRegression\n",
    "from sklearn.preprocessing import LabelBinarizer\n",
    "\n",
    "\n",
    "# Instantiate the model with the best parameters\n",
    "lr_model = LogisticRegression(C=1, penalty='l1', solver='liblinear', random_state=0)\n",
    "\n",
    "# Fit the model to the training data\n",
    "lr_model.fit(X_train_smote, y_train_smote)\n",
    "\n",
    "# Predict the labels of the test set\n",
    "y_pred_lr = lr_model.predict(X_test)\n",
    "\n",
    "# Evaluate the model\n",
    "print('Logistic Regression performance:')\n",
    "print('Accuracy:', accuracy_score(y_test, y_pred_lr))\n",
    "print('Precision:', precision_score(y_test, y_pred_lr))\n",
    "print('Recall:', recall_score(y_test, y_pred_lr))\n",
    "print('F1 Score:', f1_score(y_test, y_pred_lr))\n",
    "\n",
    "# convert labels to binary\n",
    "lb = LabelBinarizer()\n",
    "y_test_bin = lb.fit_transform(y_test)\n",
    "y_pred_lr_bin = lb.transform(y_pred_lr)\n",
    "\n",
    "print('ROC AUC Score:', roc_auc_score(y_test_bin, y_pred_lr_bin))\n"
   ]
  },
  {
   "cell_type": "markdown",
   "metadata": {},
   "source": [
    "the model trained on the SMOTE-augmented data has a lower accuracy, but it's much better at identifying the minority class (the fraud cases), as indicated by the much higher recall of 0.788. The trade-off is that it's also predicting more false positives, which is why the precision has dropped significantly.\n",
    "\n",
    "This is the key trade-off in fraud detection: do you want to catch more of the fraud cases at the risk of more false positives (SMOTE model), or do you want to minimize false positives at the risk of missing some fraud cases (original model)? This largely depends on the specific business context. For example, in some situations, a false negative (a fraud case that goes undetected) might be much more costly than a false positive (a legitimate transaction that gets flagged as potential fraud).\n",
    "\n",
    "The ROC AUC (Receiver Operating Characteristic Area Under the Curve) score is often a better metric for imbalanced classification problems because it's insensitive to imbalanced classes. It measures the trade-off between the True Positive Rate (TPR, which is the same as recall) and the False Positive Rate (FPR), at various threshold settings. The fact that your SMOTE model has a higher ROC AUC score indicates that it's doing a better job overall at distinguishing between the classes, despite the lower accuracy and precision."
   ]
  },
  {
   "cell_type": "code",
   "execution_count": 12,
   "metadata": {
    "tags": []
   },
   "outputs": [
    {
     "name": "stdout",
     "output_type": "stream",
     "text": [
      "Random Forest performance:\n",
      "Accuracy: 0.99967277486911\n",
      "Precision: 0.9375\n",
      "Recall: 0.9090909090909091\n",
      "F1 Score: 0.923076923076923\n"
     ]
    }
   ],
   "source": [
    "# Instantiate the model with the best parameters\n",
    "rf_model = RandomForestClassifier(max_depth=19, max_features=None, n_estimators=71, random_state=42)\n",
    "\n",
    "# Fit the model to the training data\n",
    "rf_model.fit(X_train_f, y_train_f)\n",
    "\n",
    "# Predict the labels of the test set\n",
    "y_pred = rf_model.predict(X_test_f)\n",
    "\n",
    "# Print performance metrics\n",
    "print(\"Random Forest performance:\")\n",
    "print('Accuracy:', accuracy_score(y_test_f, y_pred))\n",
    "print('Precision:', precision_score(y_test_f, y_pred))\n",
    "print('Recall:', recall_score(y_test_f, y_pred))\n",
    "print('F1 Score:', f1_score(y_test_f, y_pred))\n",
    "\n",
    "### The Slected Features Perform Better!!"
   ]
  },
  {
   "cell_type": "code",
   "execution_count": 12,
   "metadata": {
    "tags": []
   },
   "outputs": [
    {
     "name": "stdout",
     "output_type": "stream",
     "text": [
      "XGBoost performance:\n",
      "Accuracy: 0.99967277486911\n",
      "Precision: 1.0\n",
      "Recall: 0.8484848484848485\n",
      "F1 Score: 0.9180327868852458\n",
      "ROC AUC Score: 0.9979668131435693\n"
     ]
    }
   ],
   "source": [
    "# Fit the model with best parameters\n",
    "best_xgb_model = xgb.XGBClassifier(\n",
    "    n_estimators=100, \n",
    "    min_child_weight=3, \n",
    "    max_depth=5, \n",
    "    learning_rate=0.1,\n",
    "    use_label_encoder=False,\n",
    "    eval_metric='logloss'\n",
    ")\n",
    "\n",
    "best_xgb_model.fit(X_train, y_train)\n",
    "\n",
    "# Predict the response for test dataset\n",
    "y_pred = best_xgb_model.predict(X_test)\n",
    "\n",
    "# Importing the required metrics\n",
    "from sklearn.metrics import accuracy_score, precision_score, recall_score, f1_score, roc_auc_score\n",
    "\n",
    "# Performance\n",
    "print(\"XGBoost performance:\")\n",
    "print(f\"Accuracy: {accuracy_score(y_test, y_pred)}\")\n",
    "print(f\"Precision: {precision_score(y_test, y_pred)}\")\n",
    "print(f\"Recall: {recall_score(y_test, y_pred)}\")\n",
    "print(f\"F1 Score: {f1_score(y_test, y_pred)}\")\n",
    "print(f\"ROC AUC Score: {roc_auc_score(y_test, best_xgb_model.predict_proba(X_test)[:, 1])}\")\n"
   ]
  },
  {
   "cell_type": "code",
   "execution_count": 14,
   "metadata": {
    "tags": []
   },
   "outputs": [
    {
     "name": "stdout",
     "output_type": "stream",
     "text": [
      "Accuracy:  0.99967277486911\n",
      "Precision:  0.9375\n",
      "Recall:  0.9090909090909091\n",
      "F1 Score:  0.923076923076923\n",
      "ROC AUC Score:  0.9544798678726665\n"
     ]
    }
   ],
   "source": [
    "from sklearn.ensemble import AdaBoostClassifier\n",
    "\n",
    "# Initialize the AdaBoost Classifier with the best parameters\n",
    "adaboost_model = AdaBoostClassifier(n_estimators=100, learning_rate=10.0)\n",
    "\n",
    "# Fit the model to the data\n",
    "adaboost_model.fit(X_train_f, y_train_f)\n",
    "\n",
    "# Calculate the scores\n",
    "accuracy = accuracy_score(y_test_f, y_pred)\n",
    "precision = precision_score(y_test_f, y_pred)\n",
    "recall = recall_score(y_test_f, y_pred)\n",
    "f1 = f1_score(y_test_f, y_pred)\n",
    "roc_auc = roc_auc_score(y_test_f, y_pred)\n",
    "\n",
    "\n",
    "# You can now use this model to make predictions on unseen data\n",
    "# For example, to predict on your test set you can use:\n",
    "y_pred = adaboost_model.predict(X_test_f)\n",
    "\n",
    "# Print the scores\n",
    "print('Accuracy: ', accuracy)\n",
    "print('Precision: ', precision)\n",
    "print('Recall: ', recall)\n",
    "print('F1 Score: ', f1)\n",
    "print('ROC AUC Score: ', roc_auc)\n",
    "\n",
    "## Performs very well with the selected features rather than full raw pre processed data \n"
   ]
  }
 ],
 "metadata": {
  "availableInstances": [
   {
    "_defaultOrder": 0,
    "_isFastLaunch": true,
    "category": "General purpose",
    "gpuNum": 0,
    "hideHardwareSpecs": false,
    "memoryGiB": 4,
    "name": "ml.t3.medium",
    "vcpuNum": 2
   },
   {
    "_defaultOrder": 1,
    "_isFastLaunch": false,
    "category": "General purpose",
    "gpuNum": 0,
    "hideHardwareSpecs": false,
    "memoryGiB": 8,
    "name": "ml.t3.large",
    "vcpuNum": 2
   },
   {
    "_defaultOrder": 2,
    "_isFastLaunch": false,
    "category": "General purpose",
    "gpuNum": 0,
    "hideHardwareSpecs": false,
    "memoryGiB": 16,
    "name": "ml.t3.xlarge",
    "vcpuNum": 4
   },
   {
    "_defaultOrder": 3,
    "_isFastLaunch": false,
    "category": "General purpose",
    "gpuNum": 0,
    "hideHardwareSpecs": false,
    "memoryGiB": 32,
    "name": "ml.t3.2xlarge",
    "vcpuNum": 8
   },
   {
    "_defaultOrder": 4,
    "_isFastLaunch": true,
    "category": "General purpose",
    "gpuNum": 0,
    "hideHardwareSpecs": false,
    "memoryGiB": 8,
    "name": "ml.m5.large",
    "vcpuNum": 2
   },
   {
    "_defaultOrder": 5,
    "_isFastLaunch": false,
    "category": "General purpose",
    "gpuNum": 0,
    "hideHardwareSpecs": false,
    "memoryGiB": 16,
    "name": "ml.m5.xlarge",
    "vcpuNum": 4
   },
   {
    "_defaultOrder": 6,
    "_isFastLaunch": false,
    "category": "General purpose",
    "gpuNum": 0,
    "hideHardwareSpecs": false,
    "memoryGiB": 32,
    "name": "ml.m5.2xlarge",
    "vcpuNum": 8
   },
   {
    "_defaultOrder": 7,
    "_isFastLaunch": false,
    "category": "General purpose",
    "gpuNum": 0,
    "hideHardwareSpecs": false,
    "memoryGiB": 64,
    "name": "ml.m5.4xlarge",
    "vcpuNum": 16
   },
   {
    "_defaultOrder": 8,
    "_isFastLaunch": false,
    "category": "General purpose",
    "gpuNum": 0,
    "hideHardwareSpecs": false,
    "memoryGiB": 128,
    "name": "ml.m5.8xlarge",
    "vcpuNum": 32
   },
   {
    "_defaultOrder": 9,
    "_isFastLaunch": false,
    "category": "General purpose",
    "gpuNum": 0,
    "hideHardwareSpecs": false,
    "memoryGiB": 192,
    "name": "ml.m5.12xlarge",
    "vcpuNum": 48
   },
   {
    "_defaultOrder": 10,
    "_isFastLaunch": false,
    "category": "General purpose",
    "gpuNum": 0,
    "hideHardwareSpecs": false,
    "memoryGiB": 256,
    "name": "ml.m5.16xlarge",
    "vcpuNum": 64
   },
   {
    "_defaultOrder": 11,
    "_isFastLaunch": false,
    "category": "General purpose",
    "gpuNum": 0,
    "hideHardwareSpecs": false,
    "memoryGiB": 384,
    "name": "ml.m5.24xlarge",
    "vcpuNum": 96
   },
   {
    "_defaultOrder": 12,
    "_isFastLaunch": false,
    "category": "General purpose",
    "gpuNum": 0,
    "hideHardwareSpecs": false,
    "memoryGiB": 8,
    "name": "ml.m5d.large",
    "vcpuNum": 2
   },
   {
    "_defaultOrder": 13,
    "_isFastLaunch": false,
    "category": "General purpose",
    "gpuNum": 0,
    "hideHardwareSpecs": false,
    "memoryGiB": 16,
    "name": "ml.m5d.xlarge",
    "vcpuNum": 4
   },
   {
    "_defaultOrder": 14,
    "_isFastLaunch": false,
    "category": "General purpose",
    "gpuNum": 0,
    "hideHardwareSpecs": false,
    "memoryGiB": 32,
    "name": "ml.m5d.2xlarge",
    "vcpuNum": 8
   },
   {
    "_defaultOrder": 15,
    "_isFastLaunch": false,
    "category": "General purpose",
    "gpuNum": 0,
    "hideHardwareSpecs": false,
    "memoryGiB": 64,
    "name": "ml.m5d.4xlarge",
    "vcpuNum": 16
   },
   {
    "_defaultOrder": 16,
    "_isFastLaunch": false,
    "category": "General purpose",
    "gpuNum": 0,
    "hideHardwareSpecs": false,
    "memoryGiB": 128,
    "name": "ml.m5d.8xlarge",
    "vcpuNum": 32
   },
   {
    "_defaultOrder": 17,
    "_isFastLaunch": false,
    "category": "General purpose",
    "gpuNum": 0,
    "hideHardwareSpecs": false,
    "memoryGiB": 192,
    "name": "ml.m5d.12xlarge",
    "vcpuNum": 48
   },
   {
    "_defaultOrder": 18,
    "_isFastLaunch": false,
    "category": "General purpose",
    "gpuNum": 0,
    "hideHardwareSpecs": false,
    "memoryGiB": 256,
    "name": "ml.m5d.16xlarge",
    "vcpuNum": 64
   },
   {
    "_defaultOrder": 19,
    "_isFastLaunch": false,
    "category": "General purpose",
    "gpuNum": 0,
    "hideHardwareSpecs": false,
    "memoryGiB": 384,
    "name": "ml.m5d.24xlarge",
    "vcpuNum": 96
   },
   {
    "_defaultOrder": 20,
    "_isFastLaunch": false,
    "category": "General purpose",
    "gpuNum": 0,
    "hideHardwareSpecs": true,
    "memoryGiB": 0,
    "name": "ml.geospatial.interactive",
    "supportedImageNames": [
     "sagemaker-geospatial-v1-0"
    ],
    "vcpuNum": 0
   },
   {
    "_defaultOrder": 21,
    "_isFastLaunch": true,
    "category": "Compute optimized",
    "gpuNum": 0,
    "hideHardwareSpecs": false,
    "memoryGiB": 4,
    "name": "ml.c5.large",
    "vcpuNum": 2
   },
   {
    "_defaultOrder": 22,
    "_isFastLaunch": false,
    "category": "Compute optimized",
    "gpuNum": 0,
    "hideHardwareSpecs": false,
    "memoryGiB": 8,
    "name": "ml.c5.xlarge",
    "vcpuNum": 4
   },
   {
    "_defaultOrder": 23,
    "_isFastLaunch": false,
    "category": "Compute optimized",
    "gpuNum": 0,
    "hideHardwareSpecs": false,
    "memoryGiB": 16,
    "name": "ml.c5.2xlarge",
    "vcpuNum": 8
   },
   {
    "_defaultOrder": 24,
    "_isFastLaunch": false,
    "category": "Compute optimized",
    "gpuNum": 0,
    "hideHardwareSpecs": false,
    "memoryGiB": 32,
    "name": "ml.c5.4xlarge",
    "vcpuNum": 16
   },
   {
    "_defaultOrder": 25,
    "_isFastLaunch": false,
    "category": "Compute optimized",
    "gpuNum": 0,
    "hideHardwareSpecs": false,
    "memoryGiB": 72,
    "name": "ml.c5.9xlarge",
    "vcpuNum": 36
   },
   {
    "_defaultOrder": 26,
    "_isFastLaunch": false,
    "category": "Compute optimized",
    "gpuNum": 0,
    "hideHardwareSpecs": false,
    "memoryGiB": 96,
    "name": "ml.c5.12xlarge",
    "vcpuNum": 48
   },
   {
    "_defaultOrder": 27,
    "_isFastLaunch": false,
    "category": "Compute optimized",
    "gpuNum": 0,
    "hideHardwareSpecs": false,
    "memoryGiB": 144,
    "name": "ml.c5.18xlarge",
    "vcpuNum": 72
   },
   {
    "_defaultOrder": 28,
    "_isFastLaunch": false,
    "category": "Compute optimized",
    "gpuNum": 0,
    "hideHardwareSpecs": false,
    "memoryGiB": 192,
    "name": "ml.c5.24xlarge",
    "vcpuNum": 96
   },
   {
    "_defaultOrder": 29,
    "_isFastLaunch": true,
    "category": "Accelerated computing",
    "gpuNum": 1,
    "hideHardwareSpecs": false,
    "memoryGiB": 16,
    "name": "ml.g4dn.xlarge",
    "vcpuNum": 4
   },
   {
    "_defaultOrder": 30,
    "_isFastLaunch": false,
    "category": "Accelerated computing",
    "gpuNum": 1,
    "hideHardwareSpecs": false,
    "memoryGiB": 32,
    "name": "ml.g4dn.2xlarge",
    "vcpuNum": 8
   },
   {
    "_defaultOrder": 31,
    "_isFastLaunch": false,
    "category": "Accelerated computing",
    "gpuNum": 1,
    "hideHardwareSpecs": false,
    "memoryGiB": 64,
    "name": "ml.g4dn.4xlarge",
    "vcpuNum": 16
   },
   {
    "_defaultOrder": 32,
    "_isFastLaunch": false,
    "category": "Accelerated computing",
    "gpuNum": 1,
    "hideHardwareSpecs": false,
    "memoryGiB": 128,
    "name": "ml.g4dn.8xlarge",
    "vcpuNum": 32
   },
   {
    "_defaultOrder": 33,
    "_isFastLaunch": false,
    "category": "Accelerated computing",
    "gpuNum": 4,
    "hideHardwareSpecs": false,
    "memoryGiB": 192,
    "name": "ml.g4dn.12xlarge",
    "vcpuNum": 48
   },
   {
    "_defaultOrder": 34,
    "_isFastLaunch": false,
    "category": "Accelerated computing",
    "gpuNum": 1,
    "hideHardwareSpecs": false,
    "memoryGiB": 256,
    "name": "ml.g4dn.16xlarge",
    "vcpuNum": 64
   },
   {
    "_defaultOrder": 35,
    "_isFastLaunch": false,
    "category": "Accelerated computing",
    "gpuNum": 1,
    "hideHardwareSpecs": false,
    "memoryGiB": 61,
    "name": "ml.p3.2xlarge",
    "vcpuNum": 8
   },
   {
    "_defaultOrder": 36,
    "_isFastLaunch": false,
    "category": "Accelerated computing",
    "gpuNum": 4,
    "hideHardwareSpecs": false,
    "memoryGiB": 244,
    "name": "ml.p3.8xlarge",
    "vcpuNum": 32
   },
   {
    "_defaultOrder": 37,
    "_isFastLaunch": false,
    "category": "Accelerated computing",
    "gpuNum": 8,
    "hideHardwareSpecs": false,
    "memoryGiB": 488,
    "name": "ml.p3.16xlarge",
    "vcpuNum": 64
   },
   {
    "_defaultOrder": 38,
    "_isFastLaunch": false,
    "category": "Accelerated computing",
    "gpuNum": 8,
    "hideHardwareSpecs": false,
    "memoryGiB": 768,
    "name": "ml.p3dn.24xlarge",
    "vcpuNum": 96
   },
   {
    "_defaultOrder": 39,
    "_isFastLaunch": false,
    "category": "Memory Optimized",
    "gpuNum": 0,
    "hideHardwareSpecs": false,
    "memoryGiB": 16,
    "name": "ml.r5.large",
    "vcpuNum": 2
   },
   {
    "_defaultOrder": 40,
    "_isFastLaunch": false,
    "category": "Memory Optimized",
    "gpuNum": 0,
    "hideHardwareSpecs": false,
    "memoryGiB": 32,
    "name": "ml.r5.xlarge",
    "vcpuNum": 4
   },
   {
    "_defaultOrder": 41,
    "_isFastLaunch": false,
    "category": "Memory Optimized",
    "gpuNum": 0,
    "hideHardwareSpecs": false,
    "memoryGiB": 64,
    "name": "ml.r5.2xlarge",
    "vcpuNum": 8
   },
   {
    "_defaultOrder": 42,
    "_isFastLaunch": false,
    "category": "Memory Optimized",
    "gpuNum": 0,
    "hideHardwareSpecs": false,
    "memoryGiB": 128,
    "name": "ml.r5.4xlarge",
    "vcpuNum": 16
   },
   {
    "_defaultOrder": 43,
    "_isFastLaunch": false,
    "category": "Memory Optimized",
    "gpuNum": 0,
    "hideHardwareSpecs": false,
    "memoryGiB": 256,
    "name": "ml.r5.8xlarge",
    "vcpuNum": 32
   },
   {
    "_defaultOrder": 44,
    "_isFastLaunch": false,
    "category": "Memory Optimized",
    "gpuNum": 0,
    "hideHardwareSpecs": false,
    "memoryGiB": 384,
    "name": "ml.r5.12xlarge",
    "vcpuNum": 48
   },
   {
    "_defaultOrder": 45,
    "_isFastLaunch": false,
    "category": "Memory Optimized",
    "gpuNum": 0,
    "hideHardwareSpecs": false,
    "memoryGiB": 512,
    "name": "ml.r5.16xlarge",
    "vcpuNum": 64
   },
   {
    "_defaultOrder": 46,
    "_isFastLaunch": false,
    "category": "Memory Optimized",
    "gpuNum": 0,
    "hideHardwareSpecs": false,
    "memoryGiB": 768,
    "name": "ml.r5.24xlarge",
    "vcpuNum": 96
   },
   {
    "_defaultOrder": 47,
    "_isFastLaunch": false,
    "category": "Accelerated computing",
    "gpuNum": 1,
    "hideHardwareSpecs": false,
    "memoryGiB": 16,
    "name": "ml.g5.xlarge",
    "vcpuNum": 4
   },
   {
    "_defaultOrder": 48,
    "_isFastLaunch": false,
    "category": "Accelerated computing",
    "gpuNum": 1,
    "hideHardwareSpecs": false,
    "memoryGiB": 32,
    "name": "ml.g5.2xlarge",
    "vcpuNum": 8
   },
   {
    "_defaultOrder": 49,
    "_isFastLaunch": false,
    "category": "Accelerated computing",
    "gpuNum": 1,
    "hideHardwareSpecs": false,
    "memoryGiB": 64,
    "name": "ml.g5.4xlarge",
    "vcpuNum": 16
   },
   {
    "_defaultOrder": 50,
    "_isFastLaunch": false,
    "category": "Accelerated computing",
    "gpuNum": 1,
    "hideHardwareSpecs": false,
    "memoryGiB": 128,
    "name": "ml.g5.8xlarge",
    "vcpuNum": 32
   },
   {
    "_defaultOrder": 51,
    "_isFastLaunch": false,
    "category": "Accelerated computing",
    "gpuNum": 1,
    "hideHardwareSpecs": false,
    "memoryGiB": 256,
    "name": "ml.g5.16xlarge",
    "vcpuNum": 64
   },
   {
    "_defaultOrder": 52,
    "_isFastLaunch": false,
    "category": "Accelerated computing",
    "gpuNum": 4,
    "hideHardwareSpecs": false,
    "memoryGiB": 192,
    "name": "ml.g5.12xlarge",
    "vcpuNum": 48
   },
   {
    "_defaultOrder": 53,
    "_isFastLaunch": false,
    "category": "Accelerated computing",
    "gpuNum": 4,
    "hideHardwareSpecs": false,
    "memoryGiB": 384,
    "name": "ml.g5.24xlarge",
    "vcpuNum": 96
   },
   {
    "_defaultOrder": 54,
    "_isFastLaunch": false,
    "category": "Accelerated computing",
    "gpuNum": 8,
    "hideHardwareSpecs": false,
    "memoryGiB": 768,
    "name": "ml.g5.48xlarge",
    "vcpuNum": 192
   },
   {
    "_defaultOrder": 55,
    "_isFastLaunch": false,
    "category": "Accelerated computing",
    "gpuNum": 8,
    "hideHardwareSpecs": false,
    "memoryGiB": 1152,
    "name": "ml.p4d.24xlarge",
    "vcpuNum": 96
   },
   {
    "_defaultOrder": 56,
    "_isFastLaunch": false,
    "category": "Accelerated computing",
    "gpuNum": 8,
    "hideHardwareSpecs": false,
    "memoryGiB": 1152,
    "name": "ml.p4de.24xlarge",
    "vcpuNum": 96
   }
  ],
  "instance_type": "ml.t3.medium",
  "kernelspec": {
   "display_name": "Python 3 (Data Science)",
   "language": "python",
   "name": "python3__SAGEMAKER_INTERNAL__arn:aws:sagemaker:us-east-1:081325390199:image/datascience-1.0"
  },
  "language_info": {
   "codemirror_mode": {
    "name": "ipython",
    "version": 3
   },
   "file_extension": ".py",
   "mimetype": "text/x-python",
   "name": "python",
   "nbconvert_exporter": "python",
   "pygments_lexer": "ipython3",
   "version": "3.7.10"
  }
 },
 "nbformat": 4,
 "nbformat_minor": 4
}
